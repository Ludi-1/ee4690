{
 "cells": [
  {
   "cell_type": "code",
   "execution_count": 1,
   "metadata": {},
   "outputs": [
    {
     "name": "stderr",
     "output_type": "stream",
     "text": [
      "2024-05-31 10:05:06.139678: I tensorflow/tsl/cuda/cudart_stub.cc:28] Could not find cuda drivers on your machine, GPU will not be used.\n",
      "2024-05-31 10:05:06.518536: I tensorflow/tsl/cuda/cudart_stub.cc:28] Could not find cuda drivers on your machine, GPU will not be used.\n",
      "2024-05-31 10:05:06.519658: I tensorflow/core/platform/cpu_feature_guard.cc:182] This TensorFlow binary is optimized to use available CPU instructions in performance-critical operations.\n",
      "To enable the following instructions: AVX2 FMA, in other operations, rebuild TensorFlow with the appropriate compiler flags.\n",
      "2024-05-31 10:05:07.590909: W tensorflow/compiler/tf2tensorrt/utils/py_utils.cc:38] TF-TRT Warning: Could not find TensorRT\n"
     ]
    }
   ],
   "source": [
    "import larq as lq\n",
    "import tensorflow as tf\n",
    "import matplotlib.pyplot as plt\n",
    "import numpy as np"
   ]
  },
  {
   "cell_type": "code",
   "execution_count": 3,
   "metadata": {},
   "outputs": [],
   "source": [
    "# Helper functions\n",
    "def print_image(image):\n",
    "  # Squeeze the third dimension or you can use indexing to select the first slice\n",
    "  image_2d = np.squeeze(image)\n",
    "\n",
    "  # Plotting the image\n",
    "  plt.imshow(image_2d, cmap='gray')  # Use the gray colormap for grayscale\n",
    "  plt.colorbar()  # Optionally add a colorbar to see the intensity scale\n",
    "  plt.show()"
   ]
  },
  {
   "cell_type": "code",
   "execution_count": 6,
   "metadata": {},
   "outputs": [
    {
     "data": {
      "image/png": "[encoded data removed]",
      "text/plain": [
       "<Figure size 432x288 with 2 Axes>"
      ]
     },
     "metadata": {
      "needs_background": "light"
     },
     "output_type": "display_data"
    }
   ],
   "source": [
    "# Prepare dataset\n",
    "(train_images, train_labels), (test_images, test_labels) = tf.keras.datasets.mnist.load_data()\n",
    "\n",
    "train_images = train_images.reshape((60000, 28, 28, 1))\n",
    "test_images = test_images.reshape((10000, 28, 28, 1))\n",
    "\n",
    "print_image(train_images[0])\n",
    "# Normalize pixel values to be between -1 and 1\n",
    "train_images, test_images = train_images / 127.5 - 1, test_images / 127.5 - 1"
   ]
  },
  {
   "cell_type": "code",
   "execution_count": 20,
   "metadata": {},
   "outputs": [
    {
     "name": "stdout",
     "output_type": "stream",
     "text": [
      "Epoch 1/6\n",
      "938/938 [==============================] - 1s 610us/step - loss: 3.9883 - accuracy: 0.7582\n",
      "Epoch 2/6\n",
      "938/938 [==============================] - 1s 570us/step - loss: 3.0133 - accuracy: 0.8225\n",
      "Epoch 3/6\n",
      "938/938 [==============================] - 1s 581us/step - loss: 2.9748 - accuracy: 0.8265\n",
      "Epoch 4/6\n",
      "938/938 [==============================] - 1s 591us/step - loss: 3.0102 - accuracy: 0.8291\n",
      "Epoch 5/6\n",
      "938/938 [==============================] - 1s 571us/step - loss: 3.0290 - accuracy: 0.8293\n",
      "Epoch 6/6\n",
      "938/938 [==============================] - 1s 569us/step - loss: 2.9888 - accuracy: 0.8307\n"
     ]
    },
    {
     "data": {
      "text/plain": [
       "<keras.callbacks.History at 0x7fcf600b8550>"
      ]
     },
     "execution_count": 20,
     "metadata": {},
     "output_type": "execute_result"
    }
   ],
   "source": [
    "# NN Topology\n",
    "\n",
    "kwargs = dict(input_quantizer=\"ste_sign\",\n",
    "              kernel_quantizer=\"ste_sign\",\n",
    "              kernel_constraint=\"weight_clip\")\n",
    "\n",
    "model = tf.keras.models.Sequential()\n",
    "\n",
    "input_shape = (28, 28, 1) # Input img shape\n",
    "filters_a = 32 # Number of output channels\n",
    "kernel_three = (4, 4) # Kernel dimension\n",
    "\n",
    "filters_b = 32 # Number of output channels\n",
    "kernel_b = (3, 3) # Kernel dimension\n",
    "\n",
    "# model.add(lq.layers.QuantConv2D(filters_a, kernel_three,\n",
    "#                                 input_quantizer=\"ste_sign\",\n",
    "#                                 kernel_quantizer=\"ste_sign\",\n",
    "#                                 kernel_constraint=\"weight_clip\",\n",
    "#                                 use_bias=False,\n",
    "#                                 input_shape=input_shape))\n",
    "# model.add(tf.keras.layers.MaxPooling2D((2, 2)))\n",
    "# model.add(tf.keras.layers.BatchNormalization(scale=False))\n",
    "# model.add(lq.layers.QuantConv2D(filters_b, kernel_b,\n",
    "#                                 input_quantizer=\"ste_sign\",\n",
    "#                                 kernel_quantizer=\"ste_sign\",\n",
    "#                                 kernel_constraint=\"weight_clip\",\n",
    "#                                 use_bias=False,\n",
    "#                                 input_shape=input_shape))\n",
    "# model.add(tf.keras.layers.MaxPooling2D((2, 2)))\n",
    "# model.add(tf.keras.layers.BatchNormalization(scale=False))\n",
    "# model.add(tf.keras.layers.Flatten())\n",
    "# model.add(lq.layers.QuantDense(128, use_bias=False, **kwargs))\n",
    "# model.add(tf.keras.layers.BatchNormalization(scale=False))\n",
    "# model.add(lq.layers.QuantDense(10, use_bias=False, **kwargs))\n",
    "# model.add(tf.keras.layers.BatchNormalization(scale=False))\n",
    "# model.add(tf.keras.layers.Activation(\"softmax\"))\n",
    "model.add(tf.keras.layers.Flatten())\n",
    "# model.add(lq.layers.QuantDense(500, use_bias=False, **kwargs))\n",
    "model.add(lq.layers.QuantDense(10, use_bias=False, **kwargs))\n",
    "model.add(tf.keras.layers.Activation(\"softmax\"))\n",
    "\n",
    "model.compile(optimizer='adam',\n",
    "              loss='sparse_categorical_crossentropy',\n",
    "              metrics=['accuracy'])\n",
    "model.fit(train_images, train_labels, batch_size=64, epochs=6)"
   ]
  },
  {
   "cell_type": "code",
   "execution_count": 21,
   "metadata": {},
   "outputs": [
    {
     "name": "stdout",
     "output_type": "stream",
     "text": [
      "313/313 [==============================] - 0s 392us/step - loss: 3.1394 - accuracy: 0.8075\n",
      "+sequential_11 stats--------------------------------------------------+\n",
      "| Layer           Input prec.    Outputs  # 1-bit  Memory  1-bit MACs |\n",
      "|                       (bit)                 x 1    (kB)             |\n",
      "+---------------------------------------------------------------------+\n",
      "| flatten_4                 -  (-1, 784)        0       0           0 |\n",
      "| quant_dense_20            1   (-1, 10)     7840    0.96        7840 |\n",
      "| activation_9              -   (-1, 10)        0       0           ? |\n",
      "+---------------------------------------------------------------------+\n",
      "| Total                                      7840    0.96        7840 |\n",
      "+---------------------------------------------------------------------+\n",
      "+sequential_11 summary------------------------+\n",
      "| Total params                      7.84 k    |\n",
      "| Trainable params                  7.84 k    |\n",
      "| Non-trainable params              0         |\n",
      "| Model size                        980.00 B  |\n",
      "| Model size (8-bit FP weights)     980.00 B  |\n",
      "| Float-32 Equivalent               30.62 KiB |\n",
      "| Compression Ratio of Memory       0.03      |\n",
      "| Number of MACs                    7.84 k    |\n",
      "| Ratio of MACs that are binarized  1.0000    |\n",
      "+---------------------------------------------+\n"
     ]
    }
   ],
   "source": [
    "# Train NN\n",
    "test_loss, test_acc = model.evaluate(test_images, test_labels)\n",
    "lq.models.summary(model)"
   ]
  },
  {
   "cell_type": "code",
   "execution_count": 71,
   "metadata": {},
   "outputs": [
    {
     "name": "stdout",
     "output_type": "stream",
     "text": [
      "[array([[-1.,  1.,  1., ..., -1., -1.,  1.],\n",
      "       [ 1.,  1., -1., ..., -1., -1., -1.],\n",
      "       [ 1., -1., -1., ..., -1.,  1.,  1.],\n",
      "       ...,\n",
      "       [-1.,  1.,  1., ...,  1., -1., -1.],\n",
      "       [-1.,  1., -1., ..., -1., -1., -1.],\n",
      "       [ 1.,  1.,  1., ..., -1.,  1.,  1.]], dtype=float32)] 784 10\n"
     ]
    }
   ],
   "source": [
    "# Extract weights\n",
    "with lq.context.quantized_scope(True):\n",
    "    weights = model.layers[1].get_weights()\n",
    "    print(weights, len(weights[0]), len(weights[0][0]))\n",
    "\n",
    "\n",
    "# print(weights[0].shape)\n",
    "# rows, cols, _, output_channels = weights[0].shape\n",
    "# print(rows, cols, output_channels)\n",
    "# for col in range(cols):\n",
    "#     for row in range(rows):\n",
    "#         for output_channel in range(output_channels):\n",
    "#             print(row, col, output_channel, weights[0][row][col][0][output_channel])"
   ]
  },
  {
   "cell_type": "code",
   "execution_count": 73,
   "metadata": {},
   "outputs": [
    {
     "data": {
      "image/png": "[encoded data removed]",
      "text/plain": [
       "<Figure size 432x288 with 2 Axes>"
      ]
     },
     "metadata": {
      "needs_background": "light"
     },
     "output_type": "display_data"
    },
    {
     "name": "stdout",
     "output_type": "stream",
     "text": [
      "Predicted: 7\n"
     ]
    }
   ],
   "source": [
    "print_image(test_images[0]) # test_images[0]\n",
    "flatten_image = []\n",
    "for row in test_images[0]:\n",
    "    for column in row:\n",
    "        flatten_image.append(column)\n",
    "flatten_image = np.array(flatten_image).T\n",
    "fc_classification = np.matmul(flatten_image,weights[0])\n",
    "prediction = np.argmax(fc_classification)\n",
    "print(\"Predicted:\", prediction)"
   ]
  },
  {
   "cell_type": "code",
   "execution_count": 75,
   "metadata": {},
   "outputs": [
    {
     "name": "stdout",
     "output_type": "stream",
     "text": [
      "(10, 784)\n"
     ]
    }
   ],
   "source": [
    "def parse_fc(fc_weights):\n",
    "    fc_weights[fc_weights == -1] = 0\n",
    "    return fc_weights.T\n",
    "    # for input_neuron in binarized_weights:\n",
    "    #     # print(len(input_neuron))\n",
    "\n",
    "print(parse_fc(weights[0]).shape)"
   ]
  },
  {
   "cell_type": "code",
   "execution_count": 74,
   "metadata": {},
   "outputs": [
    {
     "ename": "FileNotFoundError",
     "evalue": "[Errno 2] No such file or directory: 'gen_hdl/fc_layer.v'",
     "output_type": "error",
     "traceback": [
      "\u001b[0;31m---------------------------------------------------------------------------\u001b[0m",
      "\u001b[0;31mFileNotFoundError\u001b[0m                         Traceback (most recent call last)",
      "Input \u001b[0;32mIn [74]\u001b[0m, in \u001b[0;36m<cell line: 30>\u001b[0;34m()\u001b[0m\n\u001b[1;32m      1\u001b[0m FC_TEMPLATE \u001b[38;5;241m=\u001b[39m \u001b[38;5;124m\"\"\"\u001b[39m\u001b[38;5;124mmodule layer_\u001b[39m\u001b[38;5;124m%\u001b[39m\u001b[38;5;124mLAYER_NUM\u001b[39m\u001b[38;5;124m%\u001b[39m\u001b[38;5;124m_fc #(\u001b[39m\n\u001b[1;32m      2\u001b[0m \u001b[38;5;124m    parameter INPUT_DIM = 784,\u001b[39m\n\u001b[1;32m      3\u001b[0m \u001b[38;5;124m    parameter OUTPUT_DIM = 10,\u001b[39m\n\u001b[0;32m   (...)\u001b[0m\n\u001b[1;32m     27\u001b[0m \n\u001b[1;32m     28\u001b[0m \u001b[38;5;124mendmodule\u001b[39m\u001b[38;5;124m\"\"\"\u001b[39m\n\u001b[0;32m---> 30\u001b[0m \u001b[38;5;28;01mwith\u001b[39;00m \u001b[38;5;28;43mopen\u001b[39;49m\u001b[43m(\u001b[49m\u001b[38;5;124;43m\"\u001b[39;49m\u001b[38;5;124;43mgen_hdl/fc_layer.v\u001b[39;49m\u001b[38;5;124;43m\"\u001b[39;49m\u001b[43m,\u001b[49m\u001b[43m \u001b[49m\u001b[38;5;124;43m\"\u001b[39;49m\u001b[38;5;124;43mw\u001b[39;49m\u001b[38;5;124;43m\"\u001b[39;49m\u001b[43m)\u001b[49m \u001b[38;5;28;01mas\u001b[39;00m f:\n\u001b[1;32m     31\u001b[0m   f\u001b[38;5;241m.\u001b[39mwrite(FC_TEMPLATE)\n",
      "\u001b[0;31mFileNotFoundError\u001b[0m: [Errno 2] No such file or directory: 'gen_hdl/fc_layer.v'"
     ]
    }
   ],
   "source": []
  },
  {
   "cell_type": "code",
   "execution_count": null,
   "metadata": {},
   "outputs": [],
   "source": []
  }
 ],
 "metadata": {
  "kernelspec": {
   "display_name": "Python 3",
   "language": "python",
   "name": "python3"
  },
  "language_info": {
   "codemirror_mode": {
    "name": "ipython",
    "version": 3
   },
   "file_extension": ".py",
   "mimetype": "text/x-python",
   "name": "python",
   "nbconvert_exporter": "python",
   "pygments_lexer": "ipython3",
   "version": "3.8.10"
  }
 },
 "nbformat": 4,
 "nbformat_minor": 2
}
