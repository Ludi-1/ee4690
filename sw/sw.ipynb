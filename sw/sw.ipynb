{
 "cells": [
  {
   "cell_type": "code",
   "execution_count": 79,
   "metadata": {},
   "outputs": [],
   "source": [
    "import larq as lq\n",
    "import tensorflow as tf\n",
    "import matplotlib.pyplot as plt\n",
    "import numpy as np"
   ]
  },
  {
   "cell_type": "code",
   "execution_count": 80,
   "metadata": {},
   "outputs": [],
   "source": [
    "# Helper functions\n",
    "def print_image(image):\n",
    "  # Squeeze the third dimension or you can use indexing to select the first slice\n",
    "  image_2d = np.squeeze(image)\n",
    "\n",
    "  # Plotting the image\n",
    "  plt.imshow(image_2d, cmap='gray')  # Use the gray colormap for grayscale\n",
    "  plt.colorbar()  # Optionally add a colorbar to see the intensity scale\n",
    "  plt.show()"
   ]
  },
  {
   "cell_type": "code",
   "execution_count": 81,
   "metadata": {},
   "outputs": [
    {
     "data": {
      "image/png": "[encoded data removed]",
      "text/plain": [
       "<Figure size 432x288 with 2 Axes>"
      ]
     },
     "metadata": {
      "needs_background": "light"
     },
     "output_type": "display_data"
    }
   ],
   "source": [
    "# Prepare dataset\n",
    "(train_images, train_labels), (test_images, test_labels) = tf.keras.datasets.mnist.load_data()\n",
    "\n",
    "train_images = train_images.reshape((60000, 28, 28, 1))\n",
    "test_images = test_images.reshape((10000, 28, 28, 1))\n",
    "\n",
    "print_image(test_images[0])\n",
    "# Normalize pixel values to be between -1 and 1\n",
    "train_images, test_images = train_images / 127.5 - 1, test_images / 127.5 - 1"
   ]
  },
  {
   "cell_type": "code",
   "execution_count": 82,
   "metadata": {},
   "outputs": [
    {
     "name": "stdout",
     "output_type": "stream",
     "text": [
      "Epoch 1/6\n",
      "938/938 [==============================] - 4s 3ms/step - loss: 1.2980 - accuracy: 0.8367\n",
      "Epoch 2/6\n",
      "938/938 [==============================] - 3s 3ms/step - loss: 0.8004 - accuracy: 0.8928\n",
      "Epoch 3/6\n",
      "938/938 [==============================] - 3s 3ms/step - loss: 0.6915 - accuracy: 0.9072\n",
      "Epoch 4/6\n",
      "938/938 [==============================] - 3s 3ms/step - loss: 0.6387 - accuracy: 0.9158\n",
      "Epoch 5/6\n",
      "938/938 [==============================] - 3s 3ms/step - loss: 0.5681 - accuracy: 0.9259\n",
      "Epoch 6/6\n",
      "938/938 [==============================] - 3s 3ms/step - loss: 0.5487 - accuracy: 0.9308\n"
     ]
    },
    {
     "data": {
      "text/plain": [
       "<keras.callbacks.History at 0x7f3d429cc9d0>"
      ]
     },
     "execution_count": 82,
     "metadata": {},
     "output_type": "execute_result"
    }
   ],
   "source": [
    "# NN Topology\n",
    "kwargs = dict(input_quantizer=\"ste_sign\",\n",
    "              kernel_quantizer=\"ste_sign\",\n",
    "              kernel_constraint=\"weight_clip\")\n",
    "input_shape = (28, 28, 1)\n",
    "model = tf.keras.models.Sequential()\n",
    "model.add(tf.keras.layers.Flatten(input_shape = input_shape))\n",
    "model.add(lq.layers.QuantDense(128*5, use_bias=False, **kwargs))\n",
    "model.add(tf.keras.layers.BatchNormalization(scale=False))\n",
    "model.add(lq.layers.QuantDense(128*2, use_bias=False, **kwargs))\n",
    "model.add(tf.keras.layers.BatchNormalization(scale=False))\n",
    "model.add(lq.layers.QuantDense(64, use_bias=False, **kwargs))\n",
    "model.add(tf.keras.layers.BatchNormalization(scale=False))\n",
    "model.add(lq.layers.QuantDense(10, use_bias=False, **kwargs))\n",
    "model.add(tf.keras.layers.Activation(\"softmax\"))\n",
    "\n",
    "model.compile(optimizer='adam',\n",
    "              loss='sparse_categorical_crossentropy',\n",
    "              metrics=['accuracy'])\n",
    "model.fit(train_images, train_labels, batch_size=64, epochs=6)"
   ]
  },
  {
   "cell_type": "code",
   "execution_count": 83,
   "metadata": {},
   "outputs": [
    {
     "name": "stdout",
     "output_type": "stream",
     "text": [
      "313/313 [==============================] - 0s 856us/step - loss: 0.8010 - accuracy: 0.9143\n",
      "+sequential_8 stats--------------------------------------------------------------------+\n",
      "| Layer                  Input prec.    Outputs  # 1-bit  # 32-bit  Memory  1-bit MACs |\n",
      "|                              (bit)                 x 1       x 1    (kB)             |\n",
      "+--------------------------------------------------------------------------------------+\n",
      "| flatten_8                        -  (-1, 784)        0         0       0           0 |\n",
      "| quant_dense_16                   1  (-1, 640)   501760         0   61.25      501760 |\n",
      "| batch_normalization_7            -  (-1, 640)        0      1280    5.00           0 |\n",
      "| quant_dense_17                   1  (-1, 256)   163840         0   20.00      163840 |\n",
      "| batch_normalization_8            -  (-1, 256)        0       512    2.00           0 |\n",
      "| quant_dense_18                   1   (-1, 64)    16384         0    2.00       16384 |\n",
      "| batch_normalization_9            -   (-1, 64)        0       128    0.50           0 |\n",
      "| quant_dense_19                   1   (-1, 10)      640         0    0.08         640 |\n",
      "| activation_8                     -   (-1, 10)        0         0       0           ? |\n",
      "+--------------------------------------------------------------------------------------+\n",
      "| Total                                           682624      1920   90.83      682624 |\n",
      "+--------------------------------------------------------------------------------------+\n",
      "+sequential_8 summary-------------------------+\n",
      "| Total params                      685 k     |\n",
      "| Trainable params                  683 k     |\n",
      "| Non-trainable params              1.92 k    |\n",
      "| Model size                        90.83 KiB |\n",
      "| Model size (8-bit FP weights)     85.20 KiB |\n",
      "| Float-32 Equivalent               2.61 MiB  |\n",
      "| Compression Ratio of Memory       0.03      |\n",
      "| Number of MACs                    683 k     |\n",
      "| Ratio of MACs that are binarized  1.0000    |\n",
      "+---------------------------------------------+\n"
     ]
    }
   ],
   "source": [
    "# Train NN\n",
    "test_loss, test_acc = model.evaluate(test_images, test_labels)\n",
    "lq.models.summary(model)"
   ]
  },
  {
   "cell_type": "code",
   "execution_count": 87,
   "metadata": {},
   "outputs": [],
   "source": [
    "FC_TEMPLATE = \"\"\"module layer_%LAYER_NUM%_fc #(\n",
    "    parameter INPUT_DIM = %INPUT_DIM%,\n",
    "    parameter OUTPUT_DIM = %OUTPUT_DIM%\n",
    ") (\n",
    "    input [INPUT_DIM-1:0] i_data,\n",
    "    output reg signed [$clog2(INPUT_DIM):0] o_data [OUTPUT_DIM-1:0]\n",
    ");\n",
    "\n",
    "wire xnor_result [INPUT_DIM-1:0][OUTPUT_DIM-1:0];\n",
    "reg [$clog2(INPUT_DIM):0] popcnt [OUTPUT_DIM-1:0];\n",
    "reg [$clog2(INPUT_DIM):0] shift [OUTPUT_DIM-1:0];\n",
    "\n",
    "%XNOR_GEN%\n",
    "\n",
    "localparam CONCAT_BITS = $clog2(INPUT_DIM)-1;\n",
    "\n",
    "always_comb begin\n",
    "    for (int i = 0; i < OUTPUT_DIM; i++) begin\n",
    "        popcnt[i] = 0;\n",
    "        for (int j = 0; j < INPUT_DIM; j++) begin\n",
    "            popcnt[i] += { {CONCAT_BITS{1'b0}}, xnor_result[j][i]};\n",
    "        end\n",
    "        shift[i] = popcnt[i] << 1;\n",
    "        o_data[i] = shift[i] - INPUT_DIM;\n",
    "    end\n",
    "end\n",
    "\n",
    "endmodule\"\"\"\n",
    "\n",
    "BN_TEMPLATE = \"\"\"module layer_%LAYER_NUM%_bn #(\n",
    "    parameter INPUT_DIM = 1,\n",
    "    parameter OUTPUT_DIM = 1\n",
    ")(\n",
    "    input signed [$clog2(INPUT_DIM):0] i_data [OUTPUT_DIM-1:0],\n",
    "    output [OUTPUT_DIM-1:0] o_data\n",
    ");\n",
    "\n",
    "%COMPARE%\n",
    "\n",
    "endmodule\n",
    "\"\"\"\n",
    "\n",
    "TOP_TEMPLATE = \"\"\"module top #(\n",
    "    parameter IMG_DIM = 28,\n",
    "%PARAMETERS%\n",
    ") (\n",
    "%PORTS%\n",
    "    input clk,\n",
    "    input i_we,\n",
    "    input [$clog2(L0_INPUT_DIM)-1:0] i_addr,\n",
    "    input i_data\n",
    ");\n",
    "\n",
    "%SIGNALS%\n",
    "\n",
    "ibuf #(\n",
    "    .IMG_DIM(IMG_DIM)\n",
    ") ibuf1 (\n",
    "    .clk(clk),\n",
    "    .i_we(i_we),\n",
    "    .i_addr(i_addr),\n",
    "    .i_data(i_data),\n",
    "    .o_data(L0_i_data)\n",
    ");\n",
    "\n",
    "%MODULES%\n",
    "\n",
    "endmodule\"\"\""
   ]
  },
  {
   "cell_type": "code",
   "execution_count": 88,
   "metadata": {},
   "outputs": [],
   "source": [
    "import os\n",
    "import shutil\n",
    "if not os.path.exists(\"gen_hdl\"):\n",
    "    os.mkdir(\"gen_hdl\")\n",
    "else:\n",
    "    shutil.rmtree('gen_hdl')\n",
    "    os.mkdir(\"gen_hdl\")\n",
    "\n",
    "def parse_fc(fc_weights, num: int):\n",
    "    fc_weights[fc_weights == -1] = 0\n",
    "    xnor = \"\"\n",
    "    weight_dim = fc_weights.shape\n",
    "    for input_neuron in range(weight_dim[0]):\n",
    "        for output_neuron in range(weight_dim[1]):\n",
    "            weight = fc_weights[input_neuron][output_neuron]\n",
    "            if weight == 0:\n",
    "                xnor += f\"assign xnor_result[{input_neuron}][{output_neuron}] = ~i_data[{input_neuron}];\\n\"\n",
    "            elif weight == 1:\n",
    "                xnor += f\"assign xnor_result[{input_neuron}][{output_neuron}] = i_data[{input_neuron}];\\n\"\n",
    "            else:\n",
    "                raise Exception(f\"neuron value not 0 or 1: {input_neuron}\")\n",
    "\n",
    "    output_hdl = FC_TEMPLATE \\\n",
    "        .replace(\"%XNOR_GEN%\", xnor) \\\n",
    "        .replace(\"%LAYER_NUM%\", str(num)) \\\n",
    "        .replace(\"%INPUT_DIM%\", str(weight_dim[0])) \\\n",
    "        .replace(\"%OUTPUT_DIM%\", str(weight_dim[1]))\n",
    "    with open(f\"gen_hdl/L{num}_fc.v\", \"w\") as f:\n",
    "        f.write(output_hdl)\n",
    "    return (weight_dim[0], weight_dim[1])\n",
    "\n",
    "def parse_bn(beta, moving_mean, moving_variance, num: int):\n",
    "\n",
    "    # thresholds = np.zeros(len(beta))\n",
    "    print(beta.shape)\n",
    "    compare = \"\"\n",
    "    for output_neuron in range(len(beta)):\n",
    "        # print(len(beta))\n",
    "        threshold = moving_mean[output_neuron] - beta[output_neuron] * np.sqrt(moving_variance[output_neuron])\n",
    "        compare += f\"\\tassign o_data[{output_neuron}] = i_data[{output_neuron}] > {round(threshold)} ? 1 : 0;\\n\"\n",
    "\n",
    "    output_hdl = BN_TEMPLATE \\\n",
    "        .replace(\"%DIM_DATA%\", str(len(beta))) \\\n",
    "        .replace(\"%LAYER_NUM%\", str(num)) \\\n",
    "        .replace(\"%COMPARE%\", compare)\n",
    "        \n",
    "    with open(f\"gen_hdl/L{num}_bn.v\", \"w\") as f:\n",
    "        f.write(output_hdl)"
   ]
  },
  {
   "cell_type": "code",
   "execution_count": 89,
   "metadata": {},
   "outputs": [
    {
     "name": "stdout",
     "output_type": "stream",
     "text": [
      "7\n",
      "(640,)\n",
      "(256,)\n",
      "(64,)\n"
     ]
    }
   ],
   "source": [
    "parameters = \"\"\n",
    "signals = \"\"\n",
    "modules = \"\"\n",
    "ports = \"\"\n",
    "print(len(model.layers)-2)\n",
    "n = 0\n",
    "for layer in model.layers:\n",
    "    if isinstance(layer, tf.keras.layers.BatchNormalization):\n",
    "        beta, moving_mean, moving_variance = layer.get_weights()\n",
    "        parse_bn(beta, moving_mean, moving_variance, n)\n",
    "        signals += (\n",
    "            f'wire [$clog2(L{n-1}_INPUT_DIM):0] L{n}_i_data [L{n-1}_OUTPUT_DIM-1:0];\\n'\n",
    "        )\n",
    "        modules += (\n",
    "            f'layer_{n}_bn #(\\n'\n",
    "            f'\\t.INPUT_DIM(L{n-1}_INPUT_DIM),\\n'\n",
    "            f'\\t.OUTPUT_DIM(L{n-1}_OUTPUT_DIM)\\n'\n",
    "            f') L{n}_bn (\\n'\n",
    "            f'\\t.i_data(L{n}_i_data),\\n'\n",
    "            f'\\t.o_data(L{n+1}_i_data)\\n);\\n'\n",
    "        )\n",
    "        n += 1\n",
    "    elif isinstance(layer, lq.layers.QuantDense):\n",
    "        with lq.context.quantized_scope(True):\n",
    "            if n == len(model.layers)-3:\n",
    "                classifier = 1\n",
    "            else:\n",
    "                classifier = 1\n",
    "            weights = layer.get_weights()\n",
    "            input_dim, output_dim = parse_fc(weights[0], n)\n",
    "            parameters += (\n",
    "                f'\\tparameter L{n}_INPUT_DIM = {input_dim},\\n'\n",
    "                f'\\tparameter L{n}_OUTPUT_DIM = {output_dim},\\n'\n",
    "                )\n",
    "            signals += (\n",
    "                f'wire [L{n}_INPUT_DIM-1:0] L{n}_i_data;\\n'\n",
    "            )\n",
    "            modules += (\n",
    "                f'layer_{n}_fc #(\\n'\n",
    "                f'\\t.INPUT_DIM(L{n}_INPUT_DIM),\\n'\n",
    "                f'\\t.OUTPUT_DIM(L{n}_OUTPUT_DIM)\\n'\n",
    "                f') L{n}_fc (\\n'\n",
    "                f'\\t.i_data(L{n}_i_data),\\n'\n",
    "                f'\\t.o_data(L{n+1}_i_data)\\n);\\n'\n",
    "            )\n",
    "            n += 1\n",
    "\n",
    "signals += (\n",
    "    f'wire [$clog2(L{n-1}_INPUT_DIM):0] L{n}_i_data [L{n-1}_OUTPUT_DIM-1:0];\\n'\n",
    "    f'assign o_data = L{n}_i_data;\\n'\n",
    ")\n",
    "ports += (\n",
    "    f'\\toutput signed [$clog2(L{n-1}_INPUT_DIM):0] o_data [9:0],\\n'\n",
    ")\n",
    "\n",
    "output_hdl = TOP_TEMPLATE \\\n",
    "        .replace(\"%PARAMETERS%\", parameters.rstrip(\",\\n\")) \\\n",
    "        .replace(\"%PORTS%\", ports) \\\n",
    "        .replace(\"%SIGNALS%\", signals) \\\n",
    "        .replace(\"%MODULES%\", modules)\n",
    "\n",
    "with open(f\"./gen_hdl/top.v\", \"w\") as f:\n",
    "    f.write(output_hdl)"
   ]
  },
  {
   "cell_type": "code",
   "execution_count": null,
   "metadata": {},
   "outputs": [],
   "source": []
  },
  {
   "cell_type": "code",
   "execution_count": null,
   "metadata": {},
   "outputs": [],
   "source": []
  }
 ],
 "metadata": {
  "kernelspec": {
   "display_name": "Python 3",
   "language": "python",
   "name": "python3"
  },
  "language_info": {
   "codemirror_mode": {
    "name": "ipython",
    "version": 3
   },
   "file_extension": ".py",
   "mimetype": "text/x-python",
   "name": "python",
   "nbconvert_exporter": "python",
   "pygments_lexer": "ipython3",
   "version": "3.8.10"
  }
 },
 "nbformat": 4,
 "nbformat_minor": 2
}
